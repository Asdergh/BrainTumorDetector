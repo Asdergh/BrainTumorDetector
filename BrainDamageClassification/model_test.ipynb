{
 "cells": [
  {
   "cell_type": "code",
   "execution_count": 2,
   "metadata": {},
   "outputs": [],
   "source": [
    "import numpy as np\n",
    "import tensorflow as tf\n",
    "import seaborn as sn\n",
    "import matplotlib.pyplot as plt\n",
    "import pandas as pd\n",
    "\n",
    "from DataHandler import DataHandler\n"
   ]
  },
  {
   "cell_type": "markdown",
   "metadata": {},
   "source": [
    "DataHandler modul test"
   ]
  },
  {
   "cell_type": "code",
   "execution_count": 3,
   "metadata": {},
   "outputs": [],
   "source": [
    "dh = DataHandler(image_size=(224, 224), \n",
    "                 data_dir=\"C:\\\\Users\\\\1\\\\Desktop\\\\BrainDesiesesClassification\\\\archive\")\n",
    "\n",
    "(train_detector_data, test_detector_data), (train_separator_data, test_separator_data) = dh.load_data()"
   ]
  },
  {
   "cell_type": "code",
   "execution_count": 64,
   "metadata": {},
   "outputs": [
    {
     "name": "stdout",
     "output_type": "stream",
     "text": [
      "1\n",
      "0\n"
     ]
    }
   ],
   "source": [
    "print(test_detector_data[13][1])\n",
    "print(test_separator_data[12][1])"
   ]
  },
  {
   "cell_type": "code",
   "execution_count": 37,
   "metadata": {},
   "outputs": [],
   "source": [
    "plt.style.use(\"dark_background\")"
   ]
  },
  {
   "cell_type": "code",
   "execution_count": 51,
   "metadata": {},
   "outputs": [
    {
     "ename": "IndexError",
     "evalue": "list index out of range",
     "output_type": "error",
     "traceback": [
      "\u001b[1;31m---------------------------------------------------------------------------\u001b[0m",
      "\u001b[1;31mIndexError\u001b[0m                                Traceback (most recent call last)",
      "Cell \u001b[1;32mIn[51], line 4\u001b[0m\n\u001b[0;32m      1\u001b[0m samples \u001b[38;5;241m=\u001b[39m [(train_detector_data[\u001b[38;5;241m0\u001b[39m][\u001b[38;5;241m0\u001b[39m], train_detector_data[\u001b[38;5;241m0\u001b[39m][\u001b[38;5;241m1\u001b[39m]),\n\u001b[0;32m      2\u001b[0m            (test_detector_data[\u001b[38;5;241m0\u001b[39m][\u001b[38;5;241m0\u001b[39m], test_detector_data[\u001b[38;5;241m0\u001b[39m][\u001b[38;5;241m1\u001b[39m]), \n\u001b[0;32m      3\u001b[0m            (train_separator_data[\u001b[38;5;241m0\u001b[39m][\u001b[38;5;241m0\u001b[39m], train_separator_data[\u001b[38;5;241m0\u001b[39m][\u001b[38;5;241m1\u001b[39m]), \n\u001b[1;32m----> 4\u001b[0m            (\u001b[43mtest_separator_data\u001b[49m\u001b[43m[\u001b[49m\u001b[38;5;241;43m0\u001b[39;49m\u001b[43m]\u001b[49m[\u001b[38;5;241m0\u001b[39m], test_separator_data[\u001b[38;5;241m0\u001b[39m][\u001b[38;5;241m1\u001b[39m])]\n",
      "\u001b[1;31mIndexError\u001b[0m: list index out of range"
     ]
    }
   ],
   "source": [
    "samples = [(train_detector_data[0][0], train_detector_data[0][1]),\n",
    "           (test_detector_data[0][0], test_detector_data[0][1]), \n",
    "           (train_separator_data[0][0], train_separator_data[0][1]), \n",
    "           (test_separator_data[0][0], test_separator_data[0][1])]\n"
   ]
  }
 ],
 "metadata": {
  "kernelspec": {
   "display_name": "Python 3",
   "language": "python",
   "name": "python3"
  },
  "language_info": {
   "codemirror_mode": {
    "name": "ipython",
    "version": 3
   },
   "file_extension": ".py",
   "mimetype": "text/x-python",
   "name": "python",
   "nbconvert_exporter": "python",
   "pygments_lexer": "ipython3",
   "version": "3.11.3"
  }
 },
 "nbformat": 4,
 "nbformat_minor": 2
}
